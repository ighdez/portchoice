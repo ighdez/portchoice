{
 "cells": [
  {
   "cell_type": "markdown",
   "metadata": {},
   "source": [
    "# Using PortChoice to design a portfolio choice experiment (including PVE choice experiments)\n",
    "\n",
    "In this short tutorial, I show how to use PortChoice to construct the experimental design of a PVE choice experiment. A PVE choice experiment is a constrained case of a portfolio choice experiment, thus the key difference is the specification of a condition such that respondents cannot choose all alternatives in the choice situation.\n",
    "\n",
    "## Step 1: Setup\n",
    "\n",
    "The following code loads PortDesign: The experimental design tool of PortChoice"
   ]
  },
  {
   "cell_type": "code",
   "execution_count": 8,
   "metadata": {},
   "outputs": [],
   "source": [
    "# Load modules\n",
    "from portchoice.design import PortDesign\n",
    "import pandas as pd"
   ]
  },
  {
   "cell_type": "markdown",
   "metadata": {},
   "source": [
    "The key inputs of PortDesign are the specification of the alternatives, attributes and attribute levels. Each alternative is a dictionary object that contains:\n",
    "\n",
    "- The names of each attribute, and\n",
    "- a list of attribute levels.\n",
    "\n",
    "The following code specifies four alternatives. Each alternative is characterised by four attributes. The last attribute is a cost variable that will be constrained. Each attribute, including cost, can take four possible levels."
   ]
  },
  {
   "cell_type": "code",
   "execution_count": 2,
   "metadata": {},
   "outputs": [],
   "source": [
    "# Define alternatives\n",
    "Alt1 = {\t'X_1': [1,2,3],\n",
    "            'X_2': [5,4,5],\n",
    "            'X_3':\t[0,1,2],\n",
    "            'Cost': [10,15,20]}\n",
    "\n",
    "Alt2 = {\t'X_1': [1,0,3],\n",
    "            'X_2': [5,4,10],\n",
    "            'X_3':\t[0,1,2],\n",
    "            'Cost': [5,10,20]}\n",
    "\n",
    "Alt3 = {\t'X_1': [4,2,3],\n",
    "            'X_2': [5,4,5],\n",
    "            'X_3':\t[0,1,2],\n",
    "            'Cost': [20,25,30]}\n",
    "\n",
    "Alt4 = {\t'X_1': [1,5,3],\n",
    "            'X_2': [5,4,5],\n",
    "            'X_3':\t[0,1,2],\n",
    "            'Cost': [10,15,30]}"
   ]
  },
  {
   "cell_type": "markdown",
   "metadata": {},
   "source": [
    "The alternatives must be grouped in a list that serves as an input for PortDesign. Additionally, the analyst must specify the number of choice situations (versions). The following code creates the alternative list and the number of choice situations:"
   ]
  },
  {
   "cell_type": "code",
   "execution_count": null,
   "metadata": {},
   "outputs": [],
   "source": [
    "# Create list of alternatives\n",
    "Altlist = [Alt1,Alt2,Alt3,Alt4]\n",
    "\n",
    "# Number of choice situations\n",
    "ncs = 60"
   ]
  },
  {
   "cell_type": "markdown",
   "metadata": {},
   "source": [
    "PortDesign is a Python object that receives the alternative list and the number of choice situations. The following code initialises PortDesign:"
   ]
  },
  {
   "cell_type": "code",
   "execution_count": 3,
   "metadata": {},
   "outputs": [],
   "source": [
    "# Create designer object\n",
    "design = PortDesign(Altlist,ncs)"
   ]
  },
  {
   "cell_type": "markdown",
   "metadata": {},
   "source": [
    "A key feature of PVE choice experiments is that respondents cannot choose all alternatives at once, due to the presence of a resource constraint. Hence, a PVE choice experiment design must include a condition that the sum of costs of all alternatives must always result in a violation of the resource constraint. The following code creates such condition:"
   ]
  },
  {
   "cell_type": "code",
   "execution_count": 4,
   "metadata": {},
   "outputs": [],
   "source": [
    "# Set conditions\n",
    "Cond = [\n",
    "    'Cost_1 + Cost_2 + Cost_3 + Cost_4 > 50']"
   ]
  },
  {
   "cell_type": "markdown",
   "metadata": {},
   "source": [
    "Finally, we proceed to generate the design matrix. The method generate_design creates the design matrix, based in the initial inputs and the following options:\n",
    "\n",
    "- TIMELIM: Optimisation time (in minutes)\n",
    "- COND: Condition list (if any)\n",
    "- CRIT: Criterion (only 'maxcorr' works for the moment)"
   ]
  },
  {
   "cell_type": "code",
   "execution_count": 7,
   "metadata": {},
   "outputs": [
    {
     "name": "stdout",
     "output_type": "stream",
     "text": [
      "Generating the initial design matrix\n",
      "Optimization complete to stop. / Elapsed: 0:00:05 / Performance: 0.075063\n",
      "Elapsed time: 0:00:06\n",
      "Performance of initial design:  0.303295\n",
      "Performance of last stored design:  0.075063\n",
      "Algorithm iterations:  29210\n",
      "\n"
     ]
    }
   ],
   "source": [
    "# Create a design\n",
    "bestdes, perf, bestperf, elapsed_time, best_t = design.generate_design(TIMELIM=0.1,COND=Cond,CRIT='maxcorr')"
   ]
  },
  {
   "cell_type": "markdown",
   "metadata": {},
   "source": [
    "The design file can be stored in a CSV file by creating first a Pandas DataFrame:"
   ]
  },
  {
   "cell_type": "code",
   "execution_count": 10,
   "metadata": {},
   "outputs": [],
   "source": [
    "to_export = pd.DataFrame(bestdes,columns=['version','alternative','X_1','X_2','X_3','Cost'])\n",
    "to_export.to_csv('simple_design.csv',index=False)"
   ]
  }
 ],
 "metadata": {
  "interpreter": {
   "hash": "a9b79cb036a134df2d7cef5867c86951f7a298ad0bf547b1e4632cb788b55c29"
  },
  "kernelspec": {
   "display_name": "Python 3.9.13 ('portchoice-ZRAWJ4aw-py3.9')",
   "language": "python",
   "name": "python3"
  },
  "language_info": {
   "codemirror_mode": {
    "name": "ipython",
    "version": 3
   },
   "file_extension": ".py",
   "mimetype": "text/x-python",
   "name": "python",
   "nbconvert_exporter": "python",
   "pygments_lexer": "ipython3",
   "version": "3.9.13"
  },
  "orig_nbformat": 4
 },
 "nbformat": 4,
 "nbformat_minor": 2
}
