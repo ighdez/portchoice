{
 "cells": [
  {
   "cell_type": "code",
   "execution_count": 1,
   "metadata": {},
   "outputs": [],
   "source": [
    "from numdifftools import Gradient, Hessian\n",
    "from portchoice.utils import numhess"
   ]
  },
  {
   "cell_type": "code",
   "execution_count": 2,
   "metadata": {},
   "outputs": [],
   "source": [
    "def rosenbrock(X):\n",
    "    x, y = X\n",
    "    a = 1. - x\n",
    "    b = y - x*x\n",
    "    return a*a + b*b*100"
   ]
  },
  {
   "cell_type": "code",
   "execution_count": 3,
   "metadata": {},
   "outputs": [],
   "source": [
    "import time"
   ]
  },
  {
   "cell_type": "code",
   "execution_count": 4,
   "metadata": {},
   "outputs": [
    {
     "name": "stdout",
     "output_type": "stream",
     "text": [
      "0.0021909642219543456\n"
     ]
    }
   ],
   "source": [
    "t0 = time.time()\n",
    "for _ in range(1000):\n",
    "    Gradient(rosenbrock)([1,1])\n",
    "t1 = time.time()\n",
    "avg_time = (t1-t0)/1000\n",
    "print(avg_time)"
   ]
  },
  {
   "cell_type": "code",
   "execution_count": 5,
   "metadata": {},
   "outputs": [
    {
     "name": "stdout",
     "output_type": "stream",
     "text": [
      "0.002974709987640381\n"
     ]
    }
   ],
   "source": [
    "t0 = time.time()\n",
    "for _ in range(1000):\n",
    "    Hessian(rosenbrock)([1,1])\n",
    "t1 = time.time()\n",
    "avg_time_nd = (t1-t0)/1000\n",
    "print(avg_time_nd)"
   ]
  },
  {
   "cell_type": "code",
   "execution_count": 6,
   "metadata": {},
   "outputs": [
    {
     "name": "stdout",
     "output_type": "stream",
     "text": [
      "0.00010989284515380859\n"
     ]
    }
   ],
   "source": [
    "t0 = time.time()\n",
    "for _ in range(1000):\n",
    "    numhess(rosenbrock)([1,1])\n",
    "t1 = time.time()\n",
    "avg_time_uw = (t1-t0)/1000\n",
    "print(avg_time_uw)"
   ]
  },
  {
   "cell_type": "code",
   "execution_count": 7,
   "metadata": {},
   "outputs": [
    {
     "data": {
      "text/plain": [
       "0.03694237273899044"
      ]
     },
     "execution_count": 7,
     "metadata": {},
     "output_type": "execute_result"
    }
   ],
   "source": [
    "avg_time_uw/avg_time_nd"
   ]
  }
 ],
 "metadata": {
  "kernelspec": {
   "display_name": "portchoice-NznvhJal-py3.9",
   "language": "python",
   "name": "python3"
  },
  "language_info": {
   "codemirror_mode": {
    "name": "ipython",
    "version": 3
   },
   "file_extension": ".py",
   "mimetype": "text/x-python",
   "name": "python",
   "nbconvert_exporter": "python",
   "pygments_lexer": "ipython3",
   "version": "3.9.13"
  },
  "orig_nbformat": 4,
  "vscode": {
   "interpreter": {
    "hash": "dcd64712d9432a079a2e627a97977ef62351be9839f0b5991cea521a8fa80742"
   }
  }
 },
 "nbformat": 4,
 "nbformat_minor": 2
}
